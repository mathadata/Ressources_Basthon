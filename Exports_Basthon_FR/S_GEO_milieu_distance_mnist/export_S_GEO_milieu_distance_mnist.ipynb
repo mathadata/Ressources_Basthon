{
 "cells": [
  {
   "cell_type": "markdown",
   "metadata": {},
   "source": [
    "# MathAData - Repérage dans le plan et distances\n",
    "\n",
    "<a href=\"http://localhost:8888/notebooks/chapters/S_GEO_milieu_distance/notebook.ipynb\" style=\"position: absolute; top: 40px; right: 10px;\">Edit Cell</a>"
   ]
  },
  {
   "cell_type": "markdown",
   "metadata": {
    "tags": [
     "start_intro"
    ]
   },
   "source": [
    "## Classification des images de 2 et de 7\n",
    "\n",
    "<a href=\"http://localhost:8888/notebooks/challenges/mnist/notebook.ipynb\" style=\"position: absolute; top: 40px; right: 10px;\">Edit Cell</a>"
   ]
  },
  {
   "cell_type": "markdown",
   "metadata": {
    "tags": [
     "end_intro"
    ]
   },
   "source": [
    "{{ intro_abstract }} [EDIT](vscode://file//Users/akim/Documents/MathAData_Git/Notebook_Git/challenges/mnist/strings.py:17)\n",
    "\n",
    "<a href=\"http://localhost:8888/notebooks/challenges/mnist/notebook.ipynb\" style=\"position: absolute; top: 40px; right: 10px;\">Edit Cell</a>"
   ]
  },
  {
   "cell_type": "markdown",
   "metadata": {
    "tags": [
     "execute"
    ]
   },
   "source": [
    "{{ import_tip }} [EDIT](vscode://file//Users/akim/Documents/MathAData_Git/Notebook_Git/strings.py:5)\n",
    "{{ error_tip }} [EDIT](vscode://file//Users/akim/Documents/MathAData_Git/Notebook_Git/strings.py:8)\n",
    "\n",
    "<a href=\"http://localhost:8888/notebooks/Common.ipynb\" style=\"position: absolute; top: 40px; right: 10px;\">Edit Cell</a>"
   ]
  },
  {
   "cell_type": "code",
   "execution_count": null,
   "metadata": {
    "deletable": false,
    "editable": false,
    "hide_input": false,
    "init_cell": true,
    "tags": [
     "breakpoint",
     "import"
    ]
   },
   "outputs": [],
   "source": [
    "from challenges.mnist.utilitaires import *\n",
    "from chapters.S_GEO_milieu_distance.utilitaires import *"
   ]
  },
  {
   "cell_type": "markdown",
   "metadata": {},
   "source": [
    "{{base_de_donnees}} [EDIT](vscode://file//Users/akim/Documents/MathAData_Git/Notebook_Git/strings.py:33)\n",
    "\n",
    "<a href=\"http://localhost:8888/notebooks/Common.ipynb\" style=\"position: absolute; top: 40px; right: 10px;\">Edit Cell</a>"
   ]
  },
  {
   "cell_type": "code",
   "execution_count": null,
   "metadata": {
    "deletable": false,
    "editable": false,
    "tags": [
     "breakpoint"
    ]
   },
   "outputs": [],
   "source": [
    "affichage_banque()\n",
    "\n",
    "validation_execution()\n",
    "\n",
    "# [EDIT](http://localhost:8888/notebooks/Common.ipynb)"
   ]
  },
  {
   "cell_type": "markdown",
   "metadata": {},
   "source": [
    "{{question_base_de_donnees_combien}} [EDIT](vscode://file//Users/akim/Documents/MathAData_Git/Notebook_Git/strings.py:35)\n",
    "\n",
    "<a href=\"http://localhost:8888/notebooks/Common.ipynb\" style=\"position: absolute; top: 40px; right: 10px;\">Edit Cell</a>"
   ]
  },
  {
   "cell_type": "code",
   "execution_count": null,
   "metadata": {
    "deletable": false,
    "tags": [
     "breakpoint"
    ]
   },
   "outputs": [],
   "source": [
    "nombre_7 = ...\n",
    "\n",
    "# NE PAS TOUCHER CETTE LIGNE\n",
    "validation_question_nombre()\n",
    "\n",
    "# [EDIT](http://localhost:8888/notebooks/Common.ipynb)"
   ]
  },
  {
   "cell_type": "markdown",
   "metadata": {},
   "source": [
    "{{question_base_de_donnees_combien_total}} [EDIT](vscode://file//Users/akim/Documents/MathAData_Git/Notebook_Git/strings.py:36)\n",
    "\n",
    "<a href=\"http://localhost:8888/notebooks/Common.ipynb\" style=\"position: absolute; top: 40px; right: 10px;\">Edit Cell</a>"
   ]
  },
  {
   "cell_type": "code",
   "execution_count": null,
   "metadata": {
    "deletable": false,
    "tags": [
     "end_bdd",
     "breakpoint"
    ]
   },
   "outputs": [],
   "source": [
    "nombre_total_images = ...\n",
    "\n",
    "# NE PAS TOUCHER CETTE LIGNE\n",
    "validation_question_nombre_total()\n",
    "\n",
    "# [EDIT](http://localhost:8888/notebooks/Common.ipynb)"
   ]
  },
  {
   "cell_type": "markdown",
   "metadata": {
    "tags": [
     "start_step1"
    ]
   },
   "source": [
    "## Point de départ\n",
    "\n",
    "<a href=\"http://localhost:8888/notebooks/Common.ipynb\" style=\"position: absolute; top: 40px; right: 10px;\">Edit Cell</a>"
   ]
  },
  {
   "cell_type": "markdown",
   "metadata": {},
   "source": [
    "{{ algo_tip }} [EDIT](vscode://file//Users/akim/Documents/MathAData_Git/Notebook_Git/strings.py:21)\n",
    "{{ algo_depart }} [EDIT](vscode://file//Users/akim/Documents/MathAData_Git/Notebook_Git/strings.py:23)\n",
    "\n",
    "<a href=\"http://localhost:8888/notebooks/Common.ipynb\" style=\"position: absolute; top: 40px; right: 10px;\">Edit Cell</a>"
   ]
  },
  {
   "cell_type": "code",
   "execution_count": null,
   "metadata": {
    "deletable": false,
    "editable": false,
    "tags": [
     "breakpoint"
    ]
   },
   "outputs": [],
   "source": [
    "import utilitaires_common\n",
    "\n",
    "def algorithme(d):\n",
    "    return 2\n",
    "\n",
    "validation_execution_algo_fixe()\n",
    "\n",
    "# [EDIT](http://localhost:8888/notebooks/Common.ipynb)"
   ]
  },
  {
   "cell_type": "markdown",
   "metadata": {},
   "source": [
    "{{question_faineant}} [EDIT](vscode://file//Users/akim/Documents/MathAData_Git/Notebook_Git/strings.py:25)\n",
    "\n",
    "<a href=\"http://localhost:8888/notebooks/Common.ipynb\" style=\"position: absolute; top: 40px; right: 10px;\">Edit Cell</a>"
   ]
  },
  {
   "cell_type": "code",
   "execution_count": null,
   "metadata": {
    "deletable": false,
    "tags": [
     "breakpoint"
    ]
   },
   "outputs": [],
   "source": [
    "Reponse_Image_A = ...\n",
    "Reponse_Image_B = ...\n",
    "Reponse_Image_C = ...\n",
    "\n",
    "# NE PAS TOUCHER CETTE LIGNE\n",
    "validation_question_faineant()\n",
    "\n",
    "# [EDIT](http://localhost:8888/notebooks/Common.ipynb)"
   ]
  },
  {
   "cell_type": "markdown",
   "metadata": {},
   "source": [
    "{{ error_compute }} [EDIT](vscode://file//Users/akim/Documents/MathAData_Git/Notebook_Git/strings.py:27)\n",
    "\n",
    "\n",
    "<a href=\"http://localhost:8888/notebooks/Common.ipynb\" style=\"position: absolute; top: 40px; right: 10px;\">Edit Cell</a>"
   ]
  },
  {
   "cell_type": "code",
   "execution_count": null,
   "metadata": {
    "deletable": false,
    "editable": false,
    "tags": [
     "breakpoint"
    ]
   },
   "outputs": [],
   "source": [
    "affichage_banque(showPredictions=True)\n",
    "\n",
    "validation_execution_calcul_score()\n",
    "\n",
    "# [EDIT](http://localhost:8888/notebooks/Common.ipynb)"
   ]
  },
  {
   "cell_type": "markdown",
   "metadata": {},
   "source": [
    "{{ question_error}} [EDIT](vscode://file//Users/akim/Documents/MathAData_Git/Notebook_Git/strings.py:40)\n",
    "\n",
    "<a href=\"http://localhost:8888/notebooks/Common.ipynb\" style=\"position: absolute; top: 40px; right: 10px;\">Edit Cell</a>"
   ]
  },
  {
   "cell_type": "code",
   "execution_count": null,
   "metadata": {
    "deletable": false,
    "tags": [
     "breakpoint"
    ]
   },
   "outputs": [],
   "source": [
    "erreur_10 = ...\n",
    "\n",
    "# NE PAS TOUCHER CETTE LIGNE\n",
    "validation_question_score_fixe()\n",
    "\n",
    "# [EDIT](http://localhost:8888/notebooks/Common.ipynb)"
   ]
  },
  {
   "cell_type": "markdown",
   "metadata": {},
   "source": [
    "{{ error_compute_complete }} [EDIT](vscode://file//Users/akim/Documents/MathAData_Git/Notebook_Git/strings.py:42)\n",
    "\n",
    "<a href=\"http://localhost:8888/notebooks/Common.ipynb\" style=\"position: absolute; top: 40px; right: 10px;\">Edit Cell</a>"
   ]
  },
  {
   "cell_type": "code",
   "execution_count": null,
   "metadata": {
    "deletable": false,
    "editable": false,
    "tags": [
     "breakpoint",
     "end_step1"
    ]
   },
   "outputs": [],
   "source": [
    "calculer_score_etape_1()\n",
    "\n",
    "# [EDIT](http://localhost:8888/notebooks/Common.ipynb)"
   ]
  },
  {
   "cell_type": "markdown",
   "metadata": {
    "tags": [
     "start_data"
    ]
   },
   "source": [
    "## Image numérique\n",
    "\n",
    "<a href=\"http://localhost:8888/notebooks/challenges/mnist/notebook.ipynb\" style=\"position: absolute; top: 40px; right: 10px;\">Edit Cell</a>"
   ]
  },
  {
   "cell_type": "markdown",
   "metadata": {},
   "source": [
    "{{understand_image}} [EDIT](vscode://file//Users/akim/Documents/MathAData_Git/Notebook_Git/challenges/mnist/strings.py:19)\n",
    "{{image_2d}} [EDIT](vscode://file//Users/akim/Documents/MathAData_Git/Notebook_Git/challenges/mnist/strings.py:21)\n",
    "\n",
    "<a href=\"http://localhost:8888/notebooks/challenges/mnist/notebook.ipynb\" style=\"position: absolute; top: 40px; right: 10px;\">Edit Cell</a>"
   ]
  },
  {
   "cell_type": "code",
   "execution_count": null,
   "metadata": {
    "deletable": false,
    "editable": false,
    "tags": [
     "breakpoint"
    ]
   },
   "outputs": [],
   "source": [
    "affichage(d)\n",
    "affichage_tableau(d)\n",
    "\n",
    "validation_execution_affichage()\n",
    "\n",
    "# [EDIT](http://localhost:8888/notebooks/challenges/mnist/notebook.ipynb)"
   ]
  },
  {
   "cell_type": "markdown",
   "metadata": {},
   "source": [
    "{{ question_pixel_value }} [EDIT](vscode://file//Users/akim/Documents/MathAData_Git/Notebook_Git/challenges/mnist/strings.py:25)\n",
    "\n",
    "<a href=\"http://localhost:8888/notebooks/challenges/mnist/notebook.ipynb\" style=\"position: absolute; top: 40px; right: 10px;\">Edit Cell</a>"
   ]
  },
  {
   "cell_type": "code",
   "execution_count": null,
   "metadata": {
    "deletable": false,
    "tags": [
     "breakpoint"
    ]
   },
   "outputs": [],
   "source": [
    "pixel = ...\n",
    "\n",
    "# NE PAS TOUCHER CETTE LIGNE\n",
    "validation_question_pixel()\n",
    "\n",
    "# [EDIT](http://localhost:8888/notebooks/challenges/mnist/notebook.ipynb)"
   ]
  },
  {
   "cell_type": "markdown",
   "metadata": {},
   "source": [
    "{{ question_pixel_black }} [EDIT](vscode://file//Users/akim/Documents/MathAData_Git/Notebook_Git/challenges/mnist/strings.py:29)\n",
    "\n",
    "<a href=\"http://localhost:8888/notebooks/challenges/mnist/notebook.ipynb\" style=\"position: absolute; top: 40px; right: 10px;\">Edit Cell</a>"
   ]
  },
  {
   "cell_type": "code",
   "execution_count": null,
   "metadata": {
    "deletable": false,
    "tags": [
     "breakpoint",
     "end_data"
    ]
   },
   "outputs": [],
   "source": [
    "d[17,15] = ...\n",
    "\n",
    "# NE PAS TOUCHER CES LIGNES\n",
    "validation_question_pixel_noir()\n",
    "affichage(d,(17,15))\n",
    "affichage_tableau(d,(17,15))\n",
    "\n",
    "# [EDIT](http://localhost:8888/notebooks/challenges/mnist/notebook.ipynb)"
   ]
  },
  {
   "cell_type": "markdown",
   "metadata": {},
   "source": [
    "## Caractéristiques\n",
    "\n",
    "<a href=\"http://localhost:8888/notebooks/chapters/S_GEO_milieu_distance/notebook.ipynb\" style=\"position: absolute; top: 40px; right: 10px;\">Edit Cell</a>"
   ]
  },
  {
   "cell_type": "markdown",
   "metadata": {},
   "source": [
    "### Calcul des caractéristiques\n",
    "\n",
    "<a href=\"http://localhost:8888/notebooks/chapters/S_GEO_milieu_distance/notebook.ipynb\" style=\"position: absolute; top: 40px; right: 10px;\">Edit Cell</a>"
   ]
  },
  {
   "cell_type": "markdown",
   "metadata": {},
   "source": [
    "{{ caracteristique_tip_2 }} [EDIT](vscode://file//Users/akim/Documents/MathAData_Git/Notebook_Git/chapters/S_GEO_milieu_distance/strings.py:17)\n",
    "\n",
    "<a href=\"http://localhost:8888/notebooks/chapters/S_GEO_milieu_distance/notebook.ipynb\" style=\"position: absolute; top: 40px; right: 10px;\">Edit Cell</a>"
   ]
  },
  {
   "cell_type": "markdown",
   "metadata": {
    "tags": [
     "start_carac_core"
    ]
   },
   "source": [
    "{{ mean_tip }} [EDIT](vscode://file//Users/akim/Documents/MathAData_Git/Notebook_Git/challenges/mnist/strings.py:31)\n",
    "\n",
    "<a href=\"http://localhost:8888/notebooks/challenges/mnist/notebook.ipynb\" style=\"position: absolute; top: 40px; right: 10px;\">Edit Cell</a>"
   ]
  },
  {
   "cell_type": "markdown",
   "metadata": {},
   "source": [
    "{{ images_mean }} [EDIT](vscode://file//Users/akim/Documents/MathAData_Git/Notebook_Git/challenges/mnist/strings.py:37)\n",
    "{{ question_mean }} [EDIT](vscode://file//Users/akim/Documents/MathAData_Git/Notebook_Git/challenges/mnist/strings.py:44)\n",
    "\n",
    "<a href=\"http://localhost:8888/notebooks/challenges/mnist/notebook.ipynb\" style=\"position: absolute; top: 40px; right: 10px;\">Edit Cell</a>"
   ]
  },
  {
   "cell_type": "code",
   "execution_count": null,
   "metadata": {
    "deletable": false,
    "tags": [
     "breakpoint",
     "end_carac_core"
    ]
   },
   "outputs": [],
   "source": [
    "moyenne_zone_4pixels = ...\n",
    "\n",
    "# NE PAS TOUCHER CETTE LIGNE\n",
    "validation_question_moyenne()\n",
    "\n",
    "# [EDIT](http://localhost:8888/notebooks/challenges/mnist/notebook.ipynb)"
   ]
  },
  {
   "cell_type": "markdown",
   "metadata": {},
   "source": [
    "{{ two_carac_tip }} [EDIT](vscode://file//Users/akim/Documents/MathAData_Git/Notebook_Git/challenges/mnist/strings.py:33)\n",
    "\n",
    "<a href=\"http://localhost:8888/notebooks/challenges/mnist/notebook.ipynb\" style=\"position: absolute; top: 40px; right: 10px;\">Edit Cell</a>"
   ]
  },
  {
   "cell_type": "code",
   "execution_count": null,
   "metadata": {
    "deletable": false,
    "editable": false,
    "tags": [
     "breakpoint"
    ]
   },
   "outputs": [],
   "source": [
    "affichage_2_geo()\n",
    "\n",
    "validation_execution_2_caracteristiques()\n",
    "\n",
    "# [EDIT](http://localhost:8888/notebooks/challenges/mnist/notebook.ipynb)"
   ]
  },
  {
   "cell_type": "markdown",
   "metadata": {},
   "source": [
    "{{ question_2_caracs }} [EDIT](vscode://file//Users/akim/Documents/MathAData_Git/Notebook_Git/challenges/mnist/strings.py:46)\n",
    "\n",
    "<a href=\"http://localhost:8888/notebooks/challenges/mnist/notebook.ipynb\" style=\"position: absolute; top: 40px; right: 10px;\">Edit Cell</a>"
   ]
  },
  {
   "cell_type": "code",
   "execution_count": null,
   "metadata": {
    "deletable": false,
    "tags": [
     "end_2_carac",
     "breakpoint"
    ]
   },
   "outputs": [],
   "source": [
    "r1 = ...\n",
    "r2 = ...\n",
    "\n",
    "# NE PAS TOUCHER CETTE LIGNE\n",
    "validation_question_2_caracteristiques()\n",
    "\n",
    "# [EDIT](http://localhost:8888/notebooks/challenges/mnist/notebook.ipynb)"
   ]
  },
  {
   "cell_type": "markdown",
   "metadata": {},
   "source": [
    "### Visualisation dans le plan\n",
    "\n",
    "<a href=\"http://localhost:8888/notebooks/chapters/S_GEO_milieu_distance/notebook.ipynb\" style=\"position: absolute; top: 40px; right: 10px;\">Edit Cell</a>"
   ]
  },
  {
   "cell_type": "markdown",
   "metadata": {},
   "source": [
    "{{ intro_2d }} [EDIT](vscode://file//Users/akim/Documents/MathAData_Git/Notebook_Git/chapters/S_GEO_milieu_distance/strings.py:21)\n",
    "\n",
    "<a href=\"http://localhost:8888/notebooks/chapters/S_GEO_milieu_distance/notebook.ipynb\" style=\"position: absolute; top: 40px; right: 10px;\">Edit Cell</a>"
   ]
  },
  {
   "cell_type": "code",
   "execution_count": null,
   "metadata": {
    "deletable": false,
    "editable": false,
    "tags": [
     "breakpoint"
    ]
   },
   "outputs": [],
   "source": [
    "# faire les images plus petites + visualization des images en général\n",
    "tracer_2_points()\n",
    "validation_execution_2_points()\n",
    "\n",
    "# [EDIT](http://localhost:8888/notebooks/chapters/S_GEO_milieu_distance/notebook.ipynb)"
   ]
  },
  {
   "cell_type": "markdown",
   "metadata": {},
   "source": [
    "{{ question_coordonnees }} [EDIT](vscode://file//Users/akim/Documents/MathAData_Git/Notebook_Git/chapters/S_GEO_milieu_distance/strings.py:19)\n",
    "\n",
    "<a href=\"http://localhost:8888/notebooks/chapters/S_GEO_milieu_distance/notebook.ipynb\" style=\"position: absolute; top: 40px; right: 10px;\">Edit Cell</a>"
   ]
  },
  {
   "cell_type": "code",
   "execution_count": null,
   "metadata": {
    "deletable": false,
    "tags": [
     "breakpoint"
    ]
   },
   "outputs": [],
   "source": [
    "A = (..., ...)\n",
    "\n",
    "B = (..., ...)\n",
    "\n",
    "# NE PAS TOUCHER CETTE LIGNE\n",
    "validation_question_2_points()\n",
    "\n",
    "# [EDIT](http://localhost:8888/notebooks/chapters/S_GEO_milieu_distance/notebook.ipynb)"
   ]
  },
  {
   "cell_type": "markdown",
   "metadata": {},
   "source": [
    "{{ info_clusters }} [EDIT](vscode://file//Users/akim/Documents/MathAData_Git/Notebook_Git/chapters/S_GEO_milieu_distance/strings.py:24)\n",
    "\n",
    "<a href=\"http://localhost:8888/notebooks/chapters/S_GEO_milieu_distance/notebook.ipynb\" style=\"position: absolute; top: 40px; right: 10px;\">Edit Cell</a>"
   ]
  },
  {
   "cell_type": "code",
   "execution_count": null,
   "metadata": {
    "deletable": false,
    "editable": false,
    "tags": [
     "breakpoint"
    ]
   },
   "outputs": [],
   "source": [
    "tracer_200_points()\n",
    "validation_execution_200_points()\n",
    "\n",
    "# [EDIT](http://localhost:8888/notebooks/chapters/S_GEO_milieu_distance/notebook.ipynb)"
   ]
  },
  {
   "cell_type": "markdown",
   "metadata": {},
   "source": [
    "{{ question_couleur_classe }} [EDIT](vscode://file//Users/akim/Documents/MathAData_Git/Notebook_Git/chapters/S_GEO_milieu_distance/strings.py:27)\n",
    "\n",
    "<a href=\"http://localhost:8888/notebooks/chapters/S_GEO_milieu_distance/notebook.ipynb\" style=\"position: absolute; top: 40px; right: 10px;\">Edit Cell</a>"
   ]
  },
  {
   "cell_type": "code",
   "execution_count": null,
   "metadata": {
    "deletable": false,
    "tags": [
     "breakpoint"
    ]
   },
   "outputs": [],
   "source": [
    "classe_points_bleus = ...\n",
    "classe_points_oranges = ...\n",
    "\n",
    "# NE PAS TOUCHER CETTE LIGNE\n",
    "validation_question_couleur()\n",
    "\n",
    "# [EDIT](http://localhost:8888/notebooks/chapters/S_GEO_milieu_distance/notebook.ipynb)"
   ]
  },
  {
   "cell_type": "markdown",
   "metadata": {},
   "source": [
    "## Classification\n",
    "\n",
    "<a href=\"http://localhost:8888/notebooks/chapters/S_GEO_milieu_distance/notebook.ipynb\" style=\"position: absolute; top: 40px; right: 10px;\">Edit Cell</a>"
   ]
  },
  {
   "cell_type": "markdown",
   "metadata": {},
   "source": [
    "{{ classification_tip_2 }} [EDIT](vscode://file//Users/akim/Documents/MathAData_Git/Notebook_Git/chapters/S_GEO_milieu_distance/strings.py:33)\n",
    "\n",
    "{{ classification_question }} [EDIT](vscode://file//Users/akim/Documents/MathAData_Git/Notebook_Git/chapters/S_GEO_milieu_distance/strings.py:35)\n",
    "\n",
    "<a href=\"http://localhost:8888/notebooks/chapters/S_GEO_milieu_distance/notebook.ipynb\" style=\"position: absolute; top: 40px; right: 10px;\">Edit Cell</a>"
   ]
  },
  {
   "cell_type": "code",
   "execution_count": null,
   "metadata": {
    "deletable": false
   },
   "outputs": [],
   "source": [
    "tracer_6000_points()\n",
    "\n",
    "# [EDIT](http://localhost:8888/notebooks/chapters/S_GEO_milieu_distance/notebook.ipynb)"
   ]
  },
  {
   "cell_type": "markdown",
   "metadata": {},
   "source": [
    "{{ question_classification }} [EDIT](vscode://file//Users/akim/Documents/MathAData_Git/Notebook_Git/chapters/S_GEO_milieu_distance/strings.py:39)\n",
    "\n",
    "<a href=\"http://localhost:8888/notebooks/chapters/S_GEO_milieu_distance/notebook.ipynb\" style=\"position: absolute; top: 40px; right: 10px;\">Edit Cell</a>"
   ]
  },
  {
   "cell_type": "code",
   "execution_count": null,
   "metadata": {
    "deletable": false,
    "tags": [
     "breakpoint"
    ]
   },
   "outputs": [],
   "source": [
    "classe_point_A = ...\n",
    "classe_point_B = ...\n",
    "classe_point_C = ...\n",
    "\n",
    "validation_question_classes()\n",
    "\n",
    "# [EDIT](http://localhost:8888/notebooks/chapters/S_GEO_milieu_distance/notebook.ipynb)"
   ]
  },
  {
   "cell_type": "markdown",
   "metadata": {},
   "source": [
    "{{ classif_2d_info_centroides }} [EDIT](vscode://file//Users/akim/Documents/MathAData_Git/Notebook_Git/chapters/S_GEO_milieu_distance/strings.py:42)\n",
    "\n",
    "<a href=\"http://localhost:8888/notebooks/chapters/S_GEO_milieu_distance/notebook.ipynb\" style=\"position: absolute; top: 40px; right: 10px;\">Edit Cell</a>"
   ]
  },
  {
   "cell_type": "markdown",
   "metadata": {},
   "source": [
    "### Mieux comprendre les point moyens et les distances\n",
    "\n",
    "<a href=\"http://localhost:8888/notebooks/chapters/S_GEO_milieu_distance/notebook.ipynb\" style=\"position: absolute; top: 40px; right: 10px;\">Edit Cell</a>"
   ]
  },
  {
   "cell_type": "markdown",
   "metadata": {},
   "source": [
    "{{deplacement_point_moyen}} [EDIT](vscode://file//Users/akim/Documents/MathAData_Git/Notebook_Git/chapters/S_GEO_milieu_distance/strings.py:51)\n",
    "\n",
    "<a href=\"http://localhost:8888/notebooks/chapters/S_GEO_milieu_distance/notebook.ipynb\" style=\"position: absolute; top: 40px; right: 10px;\">Edit Cell</a>"
   ]
  },
  {
   "cell_type": "code",
   "execution_count": null,
   "metadata": {
    "deletable": false
   },
   "outputs": [],
   "source": [
    "afficher_manip_points_moyens()\n",
    "\n",
    "# [EDIT](http://localhost:8888/notebooks/chapters/S_GEO_milieu_distance/notebook.ipynb)"
   ]
  },
  {
   "cell_type": "markdown",
   "metadata": {},
   "source": [
    "{{question_deplacement_point_moyen_1}} [EDIT](vscode://file//Users/akim/Documents/MathAData_Git/Notebook_Git/chapters/S_GEO_milieu_distance/strings.py:56)\n",
    "\n",
    "<a href=\"http://localhost:8888/notebooks/chapters/S_GEO_milieu_distance/notebook.ipynb\" style=\"position: absolute; top: 40px; right: 10px;\">Edit Cell</a>"
   ]
  },
  {
   "cell_type": "code",
   "execution_count": null,
   "metadata": {
    "deletable": false,
    "tags": [
     "breakpoint"
    ]
   },
   "outputs": [],
   "source": [
    "# POUR 2 POINTS\n",
    "deplacement_horizontal_2 = ...\n",
    "\n",
    "# POUR 3 POINTS\n",
    "deplacement_horizontal_3 = ...\n",
    "\n",
    "# POUR 4 POINTS\n",
    "deplacement_horizontal_4 = ...\n",
    "\n",
    "\n",
    "# NE PAS TOUCHER CETTE LIGNE\n",
    "validation_deplacement_horizontal()\n",
    "\n",
    "# [EDIT](http://localhost:8888/notebooks/chapters/S_GEO_milieu_distance/notebook.ipynb)"
   ]
  },
  {
   "cell_type": "markdown",
   "metadata": {},
   "source": [
    "{{question_deplacement_point_moyen_2}} [EDIT](vscode://file//Users/akim/Documents/MathAData_Git/Notebook_Git/chapters/S_GEO_milieu_distance/strings.py:61)\n",
    "\n",
    "<a href=\"http://localhost:8888/notebooks/chapters/S_GEO_milieu_distance/notebook.ipynb\" style=\"position: absolute; top: 40px; right: 10px;\">Edit Cell</a>"
   ]
  },
  {
   "cell_type": "code",
   "execution_count": null,
   "metadata": {
    "deletable": false,
    "tags": [
     "breakpoint"
    ]
   },
   "outputs": [],
   "source": [
    "# POUR 2 POINTS\n",
    "deplacement_vertical_2 = ...\n",
    "\n",
    "# POUR 3 POINTS\n",
    "deplacement_vertical_3 = ...\n",
    "\n",
    "# POUR 4 POINTS\n",
    "deplacement_vertical_4 = ...\n",
    "\n",
    "\n",
    "# NE PAS TOUCHER CETTE LIGNE\n",
    "validation_deplacement_vertical()\n",
    "\n",
    "# [EDIT](http://localhost:8888/notebooks/chapters/S_GEO_milieu_distance/notebook.ipynb)"
   ]
  },
  {
   "cell_type": "markdown",
   "metadata": {},
   "source": [
    "{{approfondissement_point_moyen}} [EDIT](vscode://file//Users/akim/Documents/MathAData_Git/Notebook_Git/chapters/S_GEO_milieu_distance/strings.py:66)\n",
    "\n",
    "<a href=\"http://localhost:8888/notebooks/chapters/S_GEO_milieu_distance/notebook.ipynb\" style=\"position: absolute; top: 40px; right: 10px;\">Edit Cell</a>"
   ]
  },
  {
   "cell_type": "markdown",
   "metadata": {},
   "source": [
    "{{distance_a_point_moyen}} [EDIT](vscode://file//Users/akim/Documents/MathAData_Git/Notebook_Git/chapters/S_GEO_milieu_distance/strings.py:74)\n",
    "\n",
    "<a href=\"http://localhost:8888/notebooks/chapters/S_GEO_milieu_distance/notebook.ipynb\" style=\"position: absolute; top: 40px; right: 10px;\">Edit Cell</a>"
   ]
  },
  {
   "cell_type": "code",
   "execution_count": null,
   "metadata": {
    "deletable": false,
    "editable": false,
    "tags": [
     "breakpoint"
    ]
   },
   "outputs": [],
   "source": [
    "afficher_manip_distance(True)\n",
    "\n",
    "validation_execution_afficher_manip_distance()\n",
    "\n",
    "# [EDIT](http://localhost:8888/notebooks/chapters/S_GEO_milieu_distance/notebook.ipynb)"
   ]
  },
  {
   "cell_type": "markdown",
   "metadata": {},
   "source": [
    "{{question_distance_a_point_moyen}} [EDIT](vscode://file//Users/akim/Documents/MathAData_Git/Notebook_Git/chapters/S_GEO_milieu_distance/strings.py:79)\n",
    "\n",
    "<a href=\"http://localhost:8888/notebooks/chapters/S_GEO_milieu_distance/notebook.ipynb\" style=\"position: absolute; top: 40px; right: 10px;\">Edit Cell</a>"
   ]
  },
  {
   "cell_type": "code",
   "execution_count": null,
   "metadata": {
    "deletable": false,
    "tags": [
     "breakpoint"
    ]
   },
   "outputs": [],
   "source": [
    "# Distances entre P et les points moyens :\n",
    "AP = ... \n",
    "BP = ... \n",
    "\n",
    "# Classe de P : 2 ou 7 ?\n",
    "classe_P =  ...\n",
    "\n",
    "\n",
    "# NE PAS TOUCHER CETTE LIGNE\n",
    "validation_distance_point_moyen()\n",
    "\n",
    "# [EDIT](http://localhost:8888/notebooks/chapters/S_GEO_milieu_distance/notebook.ipynb)"
   ]
  },
  {
   "cell_type": "markdown",
   "metadata": {},
   "source": [
    "{{recherche_mediatrice}} [EDIT](vscode://file//Users/akim/Documents/MathAData_Git/Notebook_Git/chapters/S_GEO_milieu_distance/strings.py:84)\n",
    "\n",
    "<a href=\"http://localhost:8888/notebooks/chapters/S_GEO_milieu_distance/notebook.ipynb\" style=\"position: absolute; top: 40px; right: 10px;\">Edit Cell</a>"
   ]
  },
  {
   "cell_type": "code",
   "execution_count": null,
   "metadata": {
    "deletable": false
   },
   "outputs": [],
   "source": [
    "afficher_manip_distance()\n",
    "\n",
    "# [EDIT](http://localhost:8888/notebooks/chapters/S_GEO_milieu_distance/notebook.ipynb)"
   ]
  },
  {
   "cell_type": "markdown",
   "metadata": {},
   "source": [
    "{{question_recherche_mediatrice }} [EDIT](vscode://file//Users/akim/Documents/MathAData_Git/Notebook_Git/chapters/S_GEO_milieu_distance/strings.py:89)\n",
    "\n",
    "<a href=\"http://localhost:8888/notebooks/chapters/S_GEO_milieu_distance/notebook.ipynb\" style=\"position: absolute; top: 40px; right: 10px;\">Edit Cell</a>"
   ]
  },
  {
   "cell_type": "code",
   "execution_count": null,
   "metadata": {
    "deletable": false,
    "tags": [
     "breakpoint"
    ]
   },
   "outputs": [],
   "source": [
    "# Coordoonées de trois points à équi-distance de A et B\n",
    "# Les trois points doivent être différents\n",
    "\n",
    "point_1 = ( ... , ... )\n",
    "point_2 = ( ... , ... )\n",
    "point_3 = ( ... , ... )\n",
    "\n",
    "validation_recherche_mediatrice()\n",
    "\n",
    "# [EDIT](http://localhost:8888/notebooks/chapters/S_GEO_milieu_distance/notebook.ipynb)"
   ]
  },
  {
   "cell_type": "markdown",
   "metadata": {},
   "source": [
    "{{approfondissement_recherche_mediatrice}} [EDIT](vscode://file//Users/akim/Documents/MathAData_Git/Notebook_Git/chapters/S_GEO_milieu_distance/strings.py:94)\n",
    "\n",
    "<a href=\"http://localhost:8888/notebooks/chapters/S_GEO_milieu_distance/notebook.ipynb\" style=\"position: absolute; top: 40px; right: 10px;\">Edit Cell</a>"
   ]
  },
  {
   "cell_type": "markdown",
   "metadata": {},
   "source": [
    "### Classification par points moyens\n",
    "\n",
    "<a href=\"http://localhost:8888/notebooks/chapters/S_GEO_milieu_distance/notebook.ipynb\" style=\"position: absolute; top: 40px; right: 10px;\">Edit Cell</a>"
   ]
  },
  {
   "cell_type": "markdown",
   "metadata": {},
   "source": [
    "{{retour_classification}} [EDIT](vscode://file//Users/akim/Documents/MathAData_Git/Notebook_Git/chapters/S_GEO_milieu_distance/strings.py:100)\n",
    "\n",
    "<a href=\"http://localhost:8888/notebooks/chapters/S_GEO_milieu_distance/notebook.ipynb\" style=\"position: absolute; top: 40px; right: 10px;\">Edit Cell</a>"
   ]
  },
  {
   "cell_type": "code",
   "execution_count": null,
   "metadata": {
    "deletable": false
   },
   "outputs": [],
   "source": [
    "# parfois la deuxième distance ne se voit pas\n",
    "tracer_10_points_centroides()\n",
    "validation_execution_10_points()\n",
    "\n",
    "# [EDIT](http://localhost:8888/notebooks/chapters/S_GEO_milieu_distance/notebook.ipynb)"
   ]
  },
  {
   "cell_type": "markdown",
   "metadata": {},
   "source": [
    "{{question_score_centroides}} [EDIT](vscode://file//Users/akim/Documents/MathAData_Git/Notebook_Git/chapters/S_GEO_milieu_distance/strings.py:108)\n",
    "\n",
    "<a href=\"http://localhost:8888/notebooks/chapters/S_GEO_milieu_distance/notebook.ipynb\" style=\"position: absolute; top: 40px; right: 10px;\">Edit Cell</a>"
   ]
  },
  {
   "cell_type": "code",
   "execution_count": null,
   "metadata": {
    "deletable": false,
    "tags": [
     "breakpoint"
    ]
   },
   "outputs": [],
   "source": [
    "erreur_10 = ...\n",
    "\n",
    "# NE PAS TOUCHER CETTE LIGNE\n",
    "validation_question_score_droite()\n",
    "\n",
    "# [EDIT](http://localhost:8888/notebooks/chapters/S_GEO_milieu_distance/notebook.ipynb)"
   ]
  },
  {
   "cell_type": "markdown",
   "metadata": {},
   "source": [
    "{{classif_2d_info_droite}} [EDIT](vscode://file//Users/akim/Documents/MathAData_Git/Notebook_Git/chapters/S_GEO_milieu_distance/strings.py:113)\n",
    "\n",
    "<a href=\"http://localhost:8888/notebooks/chapters/S_GEO_milieu_distance/notebook.ipynb\" style=\"position: absolute; top: 40px; right: 10px;\">Edit Cell</a>"
   ]
  },
  {
   "cell_type": "code",
   "execution_count": null,
   "metadata": {
    "deletable": false,
    "editable": false,
    "tags": [
     "breakpoint"
    ]
   },
   "outputs": [],
   "source": [
    "tracer_10_points_droite()\n",
    "validation_execution_10_points_droite()\n",
    "\n",
    "# [EDIT](http://localhost:8888/notebooks/chapters/S_GEO_milieu_distance/notebook.ipynb)"
   ]
  },
  {
   "cell_type": "markdown",
   "metadata": {},
   "source": [
    "{{ trouver_droite }} [EDIT](vscode://file//Users/akim/Documents/MathAData_Git/Notebook_Git/chapters/S_GEO_milieu_distance/strings.py:118)\n",
    "\n",
    "<a href=\"http://localhost:8888/notebooks/chapters/S_GEO_milieu_distance/notebook.ipynb\" style=\"position: absolute; top: 40px; right: 10px;\">Edit Cell</a>"
   ]
  },
  {
   "cell_type": "code",
   "execution_count": null,
   "metadata": {
    "deletable": false,
    "editable": false,
    "tags": [
     "breakpoint"
    ]
   },
   "outputs": [],
   "source": [
    "tracer_points_centroides(droite = True)\n",
    "\n",
    "validation_execution_tracer_points_droite()\n",
    "\n",
    "# [EDIT](http://localhost:8888/notebooks/chapters/S_GEO_milieu_distance/notebook.ipynb)"
   ]
  },
  {
   "cell_type": "markdown",
   "metadata": {},
   "source": [
    "### Essayons de trouver 2 meilleures caractéristiques !\n",
    "\n",
    "<a href=\"http://localhost:8888/notebooks/chapters/S_GEO_milieu_distance/notebook.ipynb\" style=\"position: absolute; top: 40px; right: 10px;\">Edit Cell</a>"
   ]
  },
  {
   "cell_type": "markdown",
   "metadata": {},
   "source": [
    "{{ bad_caracs_tip }} [EDIT](vscode://file//Users/akim/Documents/MathAData_Git/Notebook_Git/chapters/S_GEO_milieu_distance/strings.py:141)\n",
    "\n",
    "<a href=\"http://localhost:8888/notebooks/chapters/S_GEO_milieu_distance/notebook.ipynb\" style=\"position: absolute; top: 40px; right: 10px;\">Edit Cell</a>"
   ]
  },
  {
   "cell_type": "code",
   "execution_count": null,
   "metadata": {
    "deletable": false,
    "tags": [
     "breakpoint"
    ]
   },
   "outputs": [],
   "source": [
    "A_1 = (7, 7)       # <- coordonnées du point A1\n",
    "B_1 = (20, 20)     # <- coordonnées du point B1\n",
    "\n",
    "\n",
    "A_2 = (14, 14)     # <- coordonnées du point A2\n",
    "B_2 = (23, 23)     # <- coordonnées du point B2\n",
    "\n",
    "\n",
    "\n",
    "# NE PAS TOUCHER CES LIGNES\n",
    "affichage_zones_custom(A_1, B_1, A_2, B_2)\n",
    "\n",
    "validation_execution_def_caracteristiques_ripou()\n",
    "\n",
    "# [EDIT](http://localhost:8888/notebooks/chapters/S_GEO_milieu_distance/notebook.ipynb)"
   ]
  },
  {
   "cell_type": "markdown",
   "metadata": {},
   "source": [
    "{{question_cara_nulles}} [EDIT](vscode://file//Users/akim/Documents/MathAData_Git/Notebook_Git/chapters/S_GEO_milieu_distance/strings.py:143)\n",
    "\n",
    "<a href=\"http://localhost:8888/notebooks/chapters/S_GEO_milieu_distance/notebook.ipynb\" style=\"position: absolute; top: 40px; right: 10px;\">Edit Cell</a>"
   ]
  },
  {
   "cell_type": "code",
   "execution_count": null,
   "metadata": {
    "deletable": false,
    "editable": false,
    "tags": [
     "breakpoint"
    ]
   },
   "outputs": [],
   "source": [
    "validation_execution_scatter_caracteristiques_ripou()\n",
    "\n",
    "# [EDIT](http://localhost:8888/notebooks/chapters/S_GEO_milieu_distance/notebook.ipynb)"
   ]
  },
  {
   "cell_type": "markdown",
   "metadata": {},
   "source": [
    "{{question_custom_carac}} [EDIT](vscode://file//Users/akim/Documents/MathAData_Git/Notebook_Git/chapters/S_GEO_milieu_distance/strings.py:125)\n",
    "\n",
    "<a href=\"http://localhost:8888/notebooks/chapters/S_GEO_milieu_distance/notebook.ipynb\" style=\"position: absolute; top: 40px; right: 10px;\">Edit Cell</a>"
   ]
  },
  {
   "cell_type": "markdown",
   "metadata": {},
   "source": [
    "{{ aide_custom }} [EDIT](vscode://file//Users/akim/Documents/MathAData_Git/Notebook_Git/chapters/S_GEO_milieu_distance/strings.py:150)\n",
    "\n",
    "<a href=\"http://localhost:8888/notebooks/chapters/S_GEO_milieu_distance/notebook.ipynb\" style=\"position: absolute; top: 40px; right: 10px;\">Edit Cell</a>"
   ]
  },
  {
   "cell_type": "code",
   "execution_count": null,
   "metadata": {
    "deletable": false,
    "editable": false,
    "tags": [
     "breakpoint"
    ]
   },
   "outputs": [],
   "source": [
    "afficher_customisation()\n",
    "validation_execution_caracteristiques_custom()\n",
    "\n",
    "# [EDIT](http://localhost:8888/notebooks/chapters/S_GEO_milieu_distance/notebook.ipynb)"
   ]
  },
  {
   "cell_type": "markdown",
   "metadata": {},
   "source": [
    "{{ question_centroides_custom }} [EDIT](vscode://file//Users/akim/Documents/MathAData_Git/Notebook_Git/chapters/S_GEO_milieu_distance/strings.py:128)\n",
    "\n",
    "<a href=\"http://localhost:8888/notebooks/chapters/S_GEO_milieu_distance/notebook.ipynb\" style=\"position: absolute; top: 40px; right: 10px;\">Edit Cell</a>"
   ]
  },
  {
   "cell_type": "markdown",
   "metadata": {},
   "source": [
    "{{ aide_custom }} [EDIT](vscode://file//Users/akim/Documents/MathAData_Git/Notebook_Git/chapters/S_GEO_milieu_distance/strings.py:150)\n",
    "\n",
    "<a href=\"http://localhost:8888/notebooks/chapters/S_GEO_milieu_distance/notebook.ipynb\" style=\"position: absolute; top: 40px; right: 10px;\">Edit Cell</a>"
   ]
  },
  {
   "cell_type": "code",
   "execution_count": null,
   "metadata": {
    "deletable": false,
    "tags": [
     "breakpoint"
    ]
   },
   "outputs": [],
   "source": [
    "calculer_score_custom_droite()\n",
    "\n",
    "# [EDIT](http://localhost:8888/notebooks/chapters/S_GEO_milieu_distance/notebook.ipynb)"
   ]
  },
  {
   "cell_type": "markdown",
   "metadata": {},
   "source": [
    "{{ end_abstract }} [EDIT](vscode://file//Users/akim/Documents/MathAData_Git/Notebook_Git/chapters/S_GEO_milieu_distance/strings.py:133)\n",
    "\n",
    "<a href=\"http://localhost:8888/notebooks/chapters/S_GEO_milieu_distance/notebook.ipynb\" style=\"position: absolute; top: 40px; right: 10px;\">Edit Cell</a>"
   ]
  }
 ],
 "metadata": {
  "celltoolbar": "Tags",
  "init_cell": {
   "run_on_kernel_ready": true
  },
  "kernelspec": {
   "display_name": ".venv",
   "language": "python",
   "name": "python3"
  },
  "language_info": {
   "codemirror_mode": {
    "name": "ipython",
    "version": 3
   },
   "file_extension": ".py",
   "mimetype": "text/x-python",
   "name": "python",
   "nbconvert_exporter": "python",
   "pygments_lexer": "ipython3",
   "version": "3.11.9"
  },
  "varInspector": {
   "cols": {
    "lenName": 16,
    "lenType": 16,
    "lenVar": 40
   },
   "kernels_config": {
    "python": {
     "delete_cmd_postfix": "",
     "delete_cmd_prefix": "del ",
     "library": "var_list.py",
     "varRefreshCmd": "print(var_dic_list())"
    },
    "r": {
     "delete_cmd_postfix": ") ",
     "delete_cmd_prefix": "rm(",
     "library": "var_list.r",
     "varRefreshCmd": "cat(var_dic_list()) "
    }
   },
   "types_to_exclude": [
    "module",
    "function",
    "builtin_function_or_method",
    "instance",
    "_Feature"
   ],
   "window_display": false
  }
 },
 "nbformat": 4,
 "nbformat_minor": 2
}
